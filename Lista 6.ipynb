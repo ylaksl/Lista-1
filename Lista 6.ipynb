{
 "cells": [
  {
   "cell_type": "markdown",
   "id": "f7d282a2",
   "metadata": {},
   "source": [
    "# Lista 6 - Física Computacional I\n",
    "Aluna: Ylana Karolina Santos Lopes"
   ]
  },
  {
   "cell_type": "code",
   "execution_count": 49,
   "id": "41e097d0",
   "metadata": {},
   "outputs": [],
   "source": [
    "import matplotlib.pyplot as plt\n",
    "from numpy import linspace, sqrt, exp, pi\n",
    "from gaussxw import gaussxw"
   ]
  },
  {
   "cell_type": "code",
   "execution_count": 2,
   "id": "e5623c51",
   "metadata": {},
   "outputs": [
    {
     "data": {
      "image/png": "[encoded data removed]",
      "text/plain": [
       "<Figure size 640x480 with 1 Axes>"
      ]
     },
     "metadata": {},
     "output_type": "display_data"
    }
   ],
   "source": [
    "# Problema 1\n",
    "# a)\n",
    "def p(x):\n",
    "    return 924*(x**6) - 2772*(x**5) + 3150*(x**4) - 1680*(x**3) + 420*(x**2) - 42*x + 1 \n",
    "\n",
    "x = linspace(0,1,100)\n",
    "plt.plot(x,p(x))\n",
    "plt.xlabel(\"$x$\")\n",
    "plt.ylabel(\"$P(x)$\")\n",
    "plt.ylim(0,1) ## limite para facilitar a inspeção\n",
    "\n",
    "plt.tick_params(direction='in', which = 'both', bottom = 1, top =1, left = 1, right = 1)\n",
    "plt.minorticks_on()\n",
    "plt.show()"
   ]
  },
  {
   "cell_type": "markdown",
   "id": "d27feee0",
   "metadata": {},
   "source": [
    "As raízes do polinômio serão dadas pelos pontos em que a função cruza o zero (eixo x) e como cada espaço da escala equivale a 0.05 unidades, aproximamos as raízes a:\n",
    "\n",
    "$x_{1} = 0.03$ ,  $x_{2} = 0.17$ ,$x_{3} = 0.37$ ,$x_{4} = 0.62$ ,$x_{5} = 0.83$ ,$x_{6} = 0.96$ .\n"
   ]
  },
  {
   "cell_type": "code",
   "execution_count": 3,
   "id": "80d46661",
   "metadata": {},
   "outputs": [
    {
     "name": "stdout",
     "output_type": "stream",
     "text": [
      "0.03376524289842398\n",
      "0.16939530676686787\n",
      "0.38069040695840045\n",
      "0.619309593041593\n",
      "0.8306046932331476\n",
      "0.9662347571015693\n"
     ]
    }
   ],
   "source": [
    "# b)\n",
    "def dp(x):\n",
    "    return 5544*(x**5) - 13860*(x**4) + 12600*(x**3) - 5040*(x**2) + 840*x - 42\n",
    "\n",
    "x_vec = [0, 0.15, 0.3, 0.6, 0.8, 0.9]\n",
    "erro = 1\n",
    "eps = 1.0e-10\n",
    "count = 0\n",
    "\n",
    "for x in x_vec: \n",
    "    erro = 1\n",
    "    while (erro>eps):\n",
    "        xold = x\n",
    "        x = x - p(x)/dp(x)\n",
    "        erro = abs(x-xold)\n",
    "        count+=1\n",
    "    print(x)\n",
    "\n",
    "## valores calculados condizem com o mostrado graficamente"
   ]
  },
  {
   "cell_type": "markdown",
   "id": "65b85849",
   "metadata": {},
   "source": [
    "#### Problema 2\n",
    "a)\n",
    "\n",
    "Para mostrar que:\n",
    "$$\\frac{GM}{r^2} - \\frac{Gm}{(R - r)^2}= w^2r$$\n",
    "\n",
    "Partimos das forças gravitacionais experienciadas pelo satélite devido a Terra e a Lua pela fórmula:\n",
    "\n",
    "$$  \\vec{F_{g}} = \\frac{GMm}{r^2}  $$\n",
    "\n",
    "Em que $r$ é a distancia entre o satélite o corpo (de acordo com a figura $r$ para a Terra e $(R-r)$ para a Lua). Como o satélite está em equilibrio a sua força centrípeta tem que ser igual a soma vetorial das gravitacionais:\n",
    "\n",
    "$$  \\vec{F_{cp}} = m_{sat}w^2r $$\n",
    "$$ \\vec{F_{cp}} = \\vec{F_{Ts}} + \\vec{F_{Ls}}    $$\n",
    "\n",
    "Substituindo, e levando em conta o sentido das forças, chegamos na equação inicial depois de dividir tudo pela massa do satélite.\n",
    "\n",
    "$$\\frac{GM_{T}m_{sat}}{r^2} - \\frac{Gm_{L}m_{sat}}{(R - r)^2}= w^2rm_{sat}$$\n",
    "\n",
    "Resultando em:\n",
    "\n",
    "$$\\frac{GM_{T}}{r^2} - \\frac{Gm_{L}}{(R - r)^2}= w^2r$$.\n"
   ]
  },
  {
   "cell_type": "code",
   "execution_count": 59,
   "id": "e8fe53ed",
   "metadata": {},
   "outputs": [],
   "source": [
    "# b)\n",
    "### constantes ###\n",
    "G = 6.674e-11       \n",
    "M = 5.974e24 \n",
    "m = 7.348e22\n",
    "R = 3.844e8\n",
    "w = 2.662e-6 \n"
   ]
  },
  {
   "cell_type": "code",
   "execution_count": 73,
   "id": "4db86020",
   "metadata": {},
   "outputs": [],
   "source": [
    "# def f(r):\n",
    "#     return ((r**5)*(w**2)) - (2*w*(r**4)*R) + ((r**3)*(R**2)*(w**2)) + (G*m*(r**2)) - (G*M(r**2)) + (2*G*M*R*r) - (G*M*(R**2))\n",
    "\n",
    "# def df(r):\n",
    "#     return (5*(r**4)*(w**2)) - (8*w*(r**3)*R) + (3*(r**2)*(R**2)*(w**2)) + (2*G*m*r) - (2*G*M*r) + (2*G*M*R)\n",
    "\n",
    "\n",
    "## TypeError: 'float' object is not callable -> Não consegui resolver esse erro, então reescrevi de outra forma que foi a\n",
    "## única que rodou.\n"
   ]
  },
  {
   "cell_type": "code",
   "execution_count": 77,
   "id": "c73c00c4",
   "metadata": {},
   "outputs": [],
   "source": [
    "def f(r):\n",
    "    val = (R-r)**2\n",
    "    return r**5 - G*M*val/(w**2) + G*m*(r**2)/(w**2) - 2*R*(r**4) + (R**2)*(r**3)\n",
    "\n",
    "def df(r):\n",
    "    return 5*r**4 - (G*M*(2*r-2*R))/(w**2) + 2*G*m*r/(w**2) - 8*R*(r**3) + 3*(R**2)*(r**2)"
   ]
  },
  {
   "cell_type": "code",
   "execution_count": 76,
   "id": "cdaf44ec",
   "metadata": {},
   "outputs": [
    {
     "name": "stdout",
     "output_type": "stream",
     "text": [
      "326045071.66535527\n"
     ]
    }
   ],
   "source": [
    "## Escolhi o método de Newton\n",
    "r = 1.5e8 # metade da distancia entre a terra e a lua\n",
    "erro = 1\n",
    "eps = 1e-4\n",
    "while (erro>eps):   \n",
    "    r_old = r\n",
    "    r = r - (f(r)/df(r))\n",
    "    erro = abs(r-r_old)\n",
    "\n",
    "print(r)"
   ]
  },
  {
   "cell_type": "code",
   "execution_count": 78,
   "id": "a6444f27",
   "metadata": {},
   "outputs": [],
   "source": [
    "## Problema 3\n",
    "### Constantes ###\n",
    "h = 6.62607015e-34\n",
    "c = 299792458\n",
    "Kb = 1.380649e-23  \n",
    "\n",
    "lb1 = 390e-9  ## lambda 1 e 2\n",
    "lb2 = 750e-9\n",
    "\n",
    "## função da quadratura gaussiana importada do arquivo gaussxw.py\n"
   ]
  },
  {
   "cell_type": "code",
   "execution_count": 79,
   "id": "d8e287a6",
   "metadata": {},
   "outputs": [],
   "source": [
    "#a)\n",
    "def v(x):\n",
    "    return (x**3)/(exp(x) - 1)\n",
    "\n",
    "def n(T):\n",
    "    n = 100\n",
    "    b = (h*c)/(lb1*Kb*T)\n",
    "    a = (h*c)/(lb2*Kb*T)\n",
    "    y, w = gaussxw(n)\n",
    "    \n",
    "    x = (((b-a))*y + (b+a))/2\n",
    "    wl = ((b-a)/2)*w\n",
    "    \n",
    "    soma = 0\n",
    "    for k in range(n):\n",
    "        soma += wl[k]*v(x[k])\n",
    "    eff = soma*15/(pi**4)\n",
    "    return eff"
   ]
  },
  {
   "cell_type": "code",
   "execution_count": 80,
   "id": "deca51da",
   "metadata": {
    "scrolled": true
   },
   "outputs": [
    {
     "data": {
      "text/plain": [
       "Text(0.5, 1.0, 'Eficiência x Temperatura')"
      ]
     },
     "execution_count": 80,
     "metadata": {},
     "output_type": "execute_result"
    },
    {
     "data": {
      "image/png": "[encoded data removed]",
      "text/plain": [
       "<Figure size 640x480 with 1 Axes>"
      ]
     },
     "metadata": {},
     "output_type": "display_data"
    }
   ],
   "source": [
    "T = linspace(300, 10000, 100)\n",
    "vec = []\n",
    "\n",
    "for i in range(0, 100):\n",
    "   vec.append(n(T[i]))\n",
    "    \n",
    "plt.plot(T, vec)\n",
    "plt.xlabel(\"T[K]\")\n",
    "plt.ylabel(\"$\\eta$\")\n",
    "plt.title(\"Eficiência x Temperatura\")\n",
    "\n",
    "## a temperatura máxima é na faixa de 6500-7000K"
   ]
  },
  {
   "cell_type": "code",
   "execution_count": 57,
   "id": "661d0011",
   "metadata": {},
   "outputs": [
    {
     "name": "stdout",
     "output_type": "stream",
     "text": [
      "6928.506344246048\n"
     ]
    }
   ],
   "source": [
    "#b)\n",
    "def sec_aurea(f, a, b, tol=1):\n",
    "    phi = (1 + sqrt(5)) / 2\n",
    "    c = b - (b - a) / phi\n",
    "    d = a + (b - a) / phi\n",
    "    while abs(b - a) > tol:\n",
    "        if f(c) > f(d):\n",
    "            b = d\n",
    "        else:\n",
    "            a = c\n",
    "        c = b - (b - a) / phi\n",
    "        d = a + (b - a) / phi\n",
    "    return (b + a) / 2\n",
    "\n",
    "\n",
    "a = 300  \n",
    "b = 10000  \n",
    "t_max = sec_aurea(n, a, b, tol=1)\n",
    "\n",
    "print(t_max)\n",
    "\n"
   ]
  },
  {
   "cell_type": "markdown",
   "id": "3a0e0a37",
   "metadata": {},
   "source": [
    "##### c) \n",
    "\n",
    "Não é prático, pois a temperatura de fusão do tungstênio (3695 K) é bem abaixo da temperatura máxima de lâmpada (cerca de 6928 K), ou seja, o metal estaria derretido a esse ponto."
   ]
  }
 ],
 "metadata": {
  "kernelspec": {
   "display_name": "Python 3 (ipykernel)",
   "language": "python",
   "name": "python3"
  },
  "language_info": {
   "codemirror_mode": {
    "name": "ipython",
    "version": 3
   },
   "file_extension": ".py",
   "mimetype": "text/x-python",
   "name": "python",
   "nbconvert_exporter": "python",
   "pygments_lexer": "ipython3",
   "version": "3.11.8"
  }
 },
 "nbformat": 4,
 "nbformat_minor": 5
}
