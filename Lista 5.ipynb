{
 "cells": [
  {
   "cell_type": "markdown",
   "id": "3fe35587",
   "metadata": {},
   "source": [
    "# lista 5 - Física Computacional\n",
    "\n",
    "Aluna: Ylana Karolina Santos Lopes"
   ]
  },
  {
   "cell_type": "code",
   "execution_count": 2,
   "id": "74e9e267",
   "metadata": {},
   "outputs": [],
   "source": [
    "from numpy import exp, arange, sqrt\n",
    "import matplotlib.pyplot as plt"
   ]
  },
  {
   "cell_type": "markdown",
   "id": "13400cc2",
   "metadata": {},
   "source": [
    "### Problema 1"
   ]
  },
  {
   "cell_type": "code",
   "execution_count": 8,
   "id": "b2965e11",
   "metadata": {},
   "outputs": [
    {
     "name": "stdout",
     "output_type": "stream",
     "text": [
      "1\n",
      "0.8646647167633873\n",
      "0.8225966691808597\n",
      "0.8070247503317746\n",
      "0.8009201942366403\n",
      "0.7984747083247583\n",
      "0.7974866394625985\n",
      "0.797086049491047\n",
      "0.796923413762181\n",
      "0.7968573480008734\n",
      "0.7968305046795713\n",
      "0.7968195968986895\n",
      "0.7968151643557075\n",
      "0.7968133630966887\n"
     ]
    }
   ],
   "source": [
    "### a)\n",
    "\n",
    "c = 2\n",
    "\n",
    "def f(x):\n",
    "    return 1-exp(-c*x)\n",
    "\n",
    "x = 1\n",
    "tol = 1e-6\n",
    "erro = 1000\n",
    "while (erro>tol):\n",
    "    xold = x\n",
    "    print(x)\n",
    "    x = f(x)\n",
    "    erro = abs(x-xold)\n",
    "    "
   ]
  },
  {
   "cell_type": "code",
   "execution_count": 13,
   "id": "98be7053",
   "metadata": {},
   "outputs": [
    {
     "data": {
      "text/plain": [
       "Text(0.5, 0, 'c values')"
      ]
     },
     "execution_count": 13,
     "metadata": {},
     "output_type": "execute_result"
    },
    {
     "data": {
      "image/png": "[encoded data removed]",
      "text/plain": [
       "<Figure size 640x480 with 1 Axes>"
      ]
     },
     "metadata": {},
     "output_type": "display_data"
    }
   ],
   "source": [
    "### b)\n",
    "c = arange(0,3,0.01)\n",
    "x = 1\n",
    "tol = 1e-6\n",
    "erro = 1000\n",
    "list_im = []\n",
    "\n",
    "while(erro>tol):\n",
    "    xold = x\n",
    "    erro = abs(x-xold)\n",
    "    for i in c: \n",
    "        x = f(x)\n",
    "        list_im.append(x)\n",
    "    x += 1\n",
    "        \n",
    "\n",
    "plt.plot(x, c)\n",
    "plt.ylabel('x values')\n",
    "plt.xlabel('c values')"
   ]
  },
  {
   "cell_type": "markdown",
   "id": "9f693f56",
   "metadata": {},
   "source": [
    "## Problema 2\n",
    "\n",
    "### a)\n",
    "\n",
    "Partindo das duas equações que de glicólise $-x + ay + x^2y = 0$  e $b - ay-x^2y = 0$, fazemos um sistema:\n",
    "\n",
    "\n",
    "\\begin{cases} -x + ay + x^2y = 0 \\\\ b - ay-x^2y = 0 \\end{cases}\n",
    "\n",
    "Em que podemos perceber que há uma solução direta para $x$ se somarmos as equações, resultando em\n",
    "$$x = b$$ \n",
    "Assim substituímos $x$ por $b$ em uma das equações orginais:\n",
    "$$b - ay-x^2y = 0$$\n",
    "$$b - ay-b^2y = 0$$\n",
    "$$b - y(a-b^2) = 0$$\n",
    "$$y = \\frac{b}{(a-b^2)}$$\n",
    "\n",
    "Chegando às duas soluções\n",
    "$$x = b   , y = \\frac{b}{(a-b^2)}.$$"
   ]
  },
  {
   "cell_type": "markdown",
   "id": "0db84b8e",
   "metadata": {},
   "source": [
    "### b)\n",
    "\n",
    "Manipulando um pouco a algebra podemos reescrever $x$, colocando y em evidência:\n",
    "$$-x + ay + x^2y = 0$$\n",
    "$$x = ay + x^2y$$\n",
    "$$x = y(a + x^2)$$\n",
    "\n",
    "e repetindo a mesma ideia para o y:\n",
    "$$b - ay - x^2y = 0$$\n",
    "$$ay + x^2y = b$$\n",
    "$$y(a + x^2) = b$$\n",
    "$$y = \\frac{b}{(a + x^2)}$$\n",
    "\n",
    "código na célula abaixo:"
   ]
  },
  {
   "cell_type": "code",
   "execution_count": 10,
   "id": "94df56eb",
   "metadata": {},
   "outputs": [],
   "source": [
    "## continuação Problema 2 b)\n",
    "\n",
    "a,b = 1,2\n",
    "\n",
    "def f1(x,y):\n",
    "    return y*(a + x**2) \n",
    "\n",
    "def f2(x):\n",
    "    return b/(a + x**2)\n",
    "\n",
    "y = 2\n",
    "x = 2\n",
    "N = 20\n",
    "\n",
    "for i in range(N):\n",
    "    x = f1(x, y)\n",
    "\n",
    "    \n",
    "## não converge, f1 explode pro infinito"
   ]
  },
  {
   "cell_type": "code",
   "execution_count": 11,
   "id": "0602770b",
   "metadata": {
    "scrolled": true
   },
   "outputs": [
    {
     "name": "stdout",
     "output_type": "stream",
     "text": [
      "2\n",
      "0.4\n",
      "1.7241379310344827\n",
      "0.5034420832086203\n",
      "1.5955911504241354\n",
      "0.5640299298839043\n",
      "1.517301299123624\n",
      "0.6056562419974141\n",
      "1.463251017553459\n",
      "0.6367189028616449\n",
      "1.423071297384096\n",
      "0.661128193607342\n",
      "1.3917008122787495\n",
      "0.6810061243694285\n",
      "1.3663354897486502\n",
      "0.6976242860547484\n",
      "1.3452797362282594\n",
      "0.7118001162351092\n",
      "1.3274400257522239\n",
      "0.7240875262861783\n"
     ]
    }
   ],
   "source": [
    "y = 2\n",
    "x = 2\n",
    "N = 20\n",
    "\n",
    "for i in range(N):\n",
    "    print(x)\n",
    "    x = f2(x)\n",
    "    \n",
    "## não converge, oscila entre dois valores"
   ]
  },
  {
   "cell_type": "code",
   "execution_count": 61,
   "id": "192934bd",
   "metadata": {
    "scrolled": true
   },
   "outputs": [
    {
     "name": "stdout",
     "output_type": "stream",
     "text": [
      "1.9999622742071335\n",
      "0.40001207250421084\n"
     ]
    }
   ],
   "source": [
    "### c)\n",
    "def f11(x):\n",
    "    return (abs(b/y - a))**0.5\n",
    "\n",
    "def f22(x):\n",
    "    return x / (a + x**2)\n",
    "\n",
    "y = 1.0\n",
    "x = 1.0\n",
    "N = 20\n",
    "\n",
    "for i in range(N):\n",
    "    x_new = f11(x)\n",
    "    y_new = f22(x)\n",
    "    x = x_new\n",
    "    y = y_new\n",
    "    \n",
    "    \n",
    "print(x_new)\n",
    "print(y_new)\n",
    "\n",
    "## resultado condiz com o esperado"
   ]
  },
  {
   "cell_type": "markdown",
   "id": "21a7ad5c",
   "metadata": {},
   "source": [
    "## Problema 3"
   ]
  },
  {
   "cell_type": "markdown",
   "id": "ce1177e8",
   "metadata": {},
   "source": [
    "### a)\n",
    "Para acharmos o comprimento mais forte partimos da Lei de Radiação do Corpo Negro de Planck:\n",
    "\n",
    "$$I(\\lambda) = \\frac{2\\pi hc^2}{\\lambda^5 (e^\\frac{hc}{\\lambda k_b T}-1)}$$ \n",
    "\n",
    "E igualamos sua derivada a zero ($I'(\\lambda) = 0$), e para facilitar minha vida vou adotar: \n",
    "$$k_1 = 2\\pi h c^2, k_2 = \\frac{hc}{k_b T}$$\n",
    "\n",
    "Pela regra do produto, e manipulando um pouco as equações, temos\n",
    "$$\\frac{-5 k_1}{\\lambda^6 (e^\\frac{k_2}{\\lambda}-1)} + \\frac{k_1 k_2 e^\\frac{k_2}{\\lambda}}{\\lambda^7 (e^\\frac{k_2}{\\lambda} -1)^2} = 0$$\n",
    "\n",
    "Igualando os denominadores, e sabendo que se trata se uma igualdade a zero, nos reduzimos a:\n",
    "\n",
    "$$-5k_1 \\lambda (e^\\frac{k_2}{\\lambda} - 1) + k_1 k_2 e^\\frac{k_2}{\\lambda} = 0$$\n",
    "\n",
    "Dividindo tudo por $\\lambda k_1 e^\\frac{k_2}{\\lambda}$, chegamos a forma final\n",
    "\n",
    "$$-5 + \\frac{5}{e^\\frac{k_2}{\\lambda}} + \\frac{k_2}{\\lambda} = 0$$\n",
    "\n",
    "E quando substituímos os valores de $k_1$ e $k_2$ temos a solução pedida\n",
    "\n",
    "$$5 e^\\frac{-hc}{k_b T \\lambda} + \\frac{hc}{k_b T \\lambda} - 5 = 0$$"
   ]
  },
  {
   "cell_type": "code",
   "execution_count": 31,
   "id": "e42ce006",
   "metadata": {},
   "outputs": [],
   "source": [
    "h = 6.62607015e-34\n",
    "luz = 299792458 # m/s\n",
    "kb = 1.380649e-23"
   ]
  },
  {
   "cell_type": "code",
   "execution_count": 28,
   "id": "57c6fd61",
   "metadata": {},
   "outputs": [
    {
     "name": "stdout",
     "output_type": "stream",
     "text": [
      "A raiz é 4.965113639831543 . O número de iterações foi 21\n"
     ]
    }
   ],
   "source": [
    "## b)\n",
    "def f(x):\n",
    "    return 5/(exp(x)) + x - 5\n",
    "\n",
    "a = 1\n",
    "b = 5\n",
    "erro = 100\n",
    "tol = 1.0e-6\n",
    "\n",
    "while(erro>tol):\n",
    "    c = (a+b)/2\n",
    "    if f(c)*f(a)>0:\n",
    "        a=c\n",
    "    else:\n",
    "        b=c\n",
    "    erro = abs(b-a)/2\n",
    "    \n",
    "\n",
    "x = (a+b)/2\n",
    "print(\"A raiz é\", x,\". O número de iterações foi\",count)\n",
    "\n"
   ]
  },
  {
   "cell_type": "code",
   "execution_count": 32,
   "id": "b5e6319e",
   "metadata": {},
   "outputs": [
    {
     "name": "stdout",
     "output_type": "stream",
     "text": [
      "A constande de deslocamento de Wien 0.0028977723006411364 .\n"
     ]
    }
   ],
   "source": [
    "## contande de deslocamente\n",
    "\n",
    "b_cte = (h*luz)/(kb*x)\n",
    "\n",
    "print(\"A constande de deslocamento de Wien\", b_cte,\".\")"
   ]
  },
  {
   "cell_type": "code",
   "execution_count": 33,
   "id": "7dd54f45",
   "metadata": {},
   "outputs": [
    {
     "name": "stdout",
     "output_type": "stream",
     "text": [
      "5772.454782153658\n"
     ]
    }
   ],
   "source": [
    "## c)\n",
    "T = b_cte/502e-9\n",
    "\n",
    "print(T)"
   ]
  }
 ],
 "metadata": {
  "kernelspec": {
   "display_name": "Python 3 (ipykernel)",
   "language": "python",
   "name": "python3"
  },
  "language_info": {
   "codemirror_mode": {
    "name": "ipython",
    "version": 3
   },
   "file_extension": ".py",
   "mimetype": "text/x-python",
   "name": "python",
   "nbconvert_exporter": "python",
   "pygments_lexer": "ipython3",
   "version": "3.11.8"
  }
 },
 "nbformat": 4,
 "nbformat_minor": 5
}
