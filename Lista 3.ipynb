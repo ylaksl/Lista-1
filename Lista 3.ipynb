{
 "cells": [
  {
   "cell_type": "markdown",
   "id": "817be859",
   "metadata": {},
   "source": [
    "# Lista 3 - Física Computacional\n",
    "Aluna: Ylana Karolina Santos Lopes"
   ]
  },
  {
   "cell_type": "code",
   "execution_count": 100,
   "id": "726e80f4",
   "metadata": {},
   "outputs": [],
   "source": [
    "from numpy import exp, pi, cos, sin, arange, linspace, loadtxt, empty, sqrt\n",
    "from pylab import plot, xlabel, ylabel, imshow, xlim, ylim, gray, show\n",
    "from gaussxw import gaussxw"
   ]
  },
  {
   "cell_type": "code",
   "execution_count": 259,
   "id": "493cc1f7",
   "metadata": {},
   "outputs": [],
   "source": [
    "# -----------> constantes <----------------------\n",
    "ro = 6.022e28 # me-3 densidade\n",
    "theta_d = 428 # K temperatura de debye\n",
    "v = 1e-3 #me3 volume\n",
    "kb = 1.380649e-23 #cte de boltzmann\n",
    "h = 6.62607015e-34 # cte de planck\n",
    "h_cort = h/(2*pi)\n",
    "c = 299792458.0 # velocidade da luz\n",
    "G = 6.674e-11 #cte de gravitação\n",
    "sigma = 5.67037442e-8 # cte de stefan-boltzmann\n"
   ]
  },
  {
   "cell_type": "markdown",
   "id": "b5f1c768",
   "metadata": {},
   "source": [
    "#### Problema 1: Capacidade térmica de um Sólido"
   ]
  },
  {
   "cell_type": "code",
   "execution_count": 271,
   "id": "0f67bd9c",
   "metadata": {},
   "outputs": [
    {
     "name": "stdout",
     "output_type": "stream",
     "text": [
      "Para um número de fatias 50 o valor estimado da capacidade térmica é 1153.2637611460727 J/K.\n"
     ]
    }
   ],
   "source": [
    "#a) \n",
    "\n",
    "def cv(T):\n",
    "    def f(x):\n",
    "        return (x**4*exp(x))/(exp(x)-1)**2\n",
    "\n",
    "    a = 0.0\n",
    "    b = theta_d/T\n",
    "    N = 50\n",
    "    y,w = gaussxw(N)\n",
    "    x = ((b-a)/2)*y+(b+a)/2\n",
    "    wl = ((b-a)/2)*w\n",
    "    integ = 0.0\n",
    "\n",
    "    for k in range(N):\n",
    "        integ+=wl[k]*f(x[k])\n",
    "        \n",
    "        \n",
    "    return (9*v*ro*kb*(T/theta_d)**3)*integ\n",
    "\n",
    "    \n",
    "resul = cv(100)\n",
    "    \n",
    "print(\"Para um número de fatias 50 o valor estimado da capacidade térmica é\",resul,\"J/K.\")\n",
    "\n"
   ]
  },
  {
   "cell_type": "code",
   "execution_count": 277,
   "id": "d04bc55b",
   "metadata": {},
   "outputs": [
    {
     "data": {
      "text/plain": [
       "[<matplotlib.lines.Line2D at 0x15310523cd0>]"
      ]
     },
     "execution_count": 277,
     "metadata": {},
     "output_type": "execute_result"
    },
    {
     "data": {
      "image/png": "[encoded data removed]",
      "text/plain": [
       "<Figure size 640x480 with 1 Axes>"
      ]
     },
     "metadata": {},
     "output_type": "display_data"
    }
   ],
   "source": [
    "#b)\n",
    "## calcula o calor específico -> c = cap. Termica/m\n",
    "\n",
    "m = ro*v\n",
    "c = []\n",
    "T = linspace(5, 500, 100)\n",
    "\n",
    "for l in range(0,100):\n",
    "    c.append(cv(T[l])/m)\n",
    "\n",
    "ylabel(\"c -- em J/Kg*K\")\n",
    "xlabel(\"T -- em Kelvin\")\n",
    "plot(T, c, color = 'coral')"
   ]
  },
  {
   "cell_type": "markdown",
   "id": "d424a7ad",
   "metadata": {},
   "source": [
    "#### Problema 2: A constante de Stefan–Boltzmann"
   ]
  },
  {
   "cell_type": "markdown",
   "id": "314d89d8",
   "metadata": {},
   "source": [
    "##### a) \n",
    "Tendo $I(w)$, nós integramos em $x$ após realizar a mudança de variável $x = \\frac{\\hbar w}{k_b T}$, em que consequentemente $w = \\frac{x k_b T}{\\hbar}$, logo $dw = \\frac{K_b T}{\\hbar} dx$ .\n",
    "\n",
    "$$W = \\frac{h}{4\\pi^2 c^2} \\int_{0}^{\\infty} \\frac{x^3 K_b^3 T^3}{\\hbar^3 (e^x - 1)} \\frac{K_b T}{\\hbar}\\,dx $$\n",
    "\n",
    "Tiramos as constantes, e simplificamos o que for possível chegando a equação dada na questão.\n",
    "\n",
    "$$W = \\frac{K_b^4 T^4}{4\\pi^2 c^2 \\hbar^3} \\int_{0}^{\\infty} \\frac{x^3}{e^x - 1}\\,dx$$\n",
    "\n"
   ]
  },
  {
   "cell_type": "code",
   "execution_count": 263,
   "id": "c508c72f",
   "metadata": {},
   "outputs": [
    {
     "name": "stdout",
     "output_type": "stream",
     "text": [
      "6.493939400514872\n"
     ]
    },
    {
     "name": "stderr",
     "output_type": "stream",
     "text": [
      "C:\\Users\\ylana\\AppData\\Local\\Temp\\ipykernel_31056\\1593897713.py:6: RuntimeWarning: overflow encountered in exp\n",
      "  return (z/(1-z))**3/((exp(z/(1-z))-1)*(1-z)**2)\n"
     ]
    }
   ],
   "source": [
    "#b) \n",
    "def f(z):\n",
    "    return (z/(1-z))**3/((exp(z/(1-z))-1)*(1-z)**2)\n",
    "\n",
    "a = 0.0\n",
    "b = 1.0\n",
    "N = 50\n",
    "y,w = gaussxw(N)\n",
    "z = ((b-a)/2)*y+(b+a)/2\n",
    "wl = ((b-a)/2)*w\n",
    "integ = 0.0\n",
    "\n",
    "for k in range(N):\n",
    "    integ +=wl[k]*f(z[k])\n",
    "\n",
    "    \n",
    "print(integ)"
   ]
  },
  {
   "cell_type": "markdown",
   "id": "9299319b",
   "metadata": {},
   "source": [
    "Escolhi a quadratura gaussiana por ser o método mais preciso e evitar divisões por 0 que ocorreria com outros métodos nesse exemplo."
   ]
  },
  {
   "cell_type": "code",
   "execution_count": 267,
   "id": "22d24e74",
   "metadata": {},
   "outputs": [
    {
     "name": "stdout",
     "output_type": "stream",
     "text": [
      "Valor estimado:  5.670374417654656e-08\n",
      "Valor da definição: 5.67037442e-08 kg s-3 K-4\n",
      "0.0000000414 % de erro, o que é bastante satisfatório\n"
     ]
    }
   ],
   "source": [
    "#c)\n",
    "cte_SB = integ*kb**4/(4*pi**2*c**2*h_cort**3)\n",
    "print(\"Valor estimado: \",cte_SB)\n",
    "print(\"Valor da definição:\", sigma, \"kg s-3 K-4\")\n",
    "\n",
    "e = ((sigma-cte_SB)/sigma)*100\n",
    "print(\"%.10f\"%e,\"% de erro, o que é bastante satisfatório\")\n",
    "\n",
    "\n",
    "#É possível ver que se trata de um resultado satisfatório, concordando em 8 casas decimais."
   ]
  },
  {
   "cell_type": "markdown",
   "id": "87f8b3cf",
   "metadata": {},
   "source": [
    "#### Problema 3: Atração gravitacional de uma folha uniforme"
   ]
  },
  {
   "cell_type": "markdown",
   "id": "ae468d7c",
   "metadata": {},
   "source": [
    "##### a) \n",
    "Partindo de $ F_g = G\\frac{mM}{r^2}$, e que $M = \\sigma dx dy$, e que só precisamos da componente z das forças, temos:\n",
    "\n",
    "$$ dF_z = G\\frac{\\sigma dx dy}{r^2}cos\\theta $$\n",
    "\n",
    "Em que $r^2 = x^2 + y^2 + z^2$ pelo arranjo do problema, e $cos\\theta = \\frac{z}{x^2 + y^2 + z^2}$. Então substituindo e montando a integral de L/2 a -L/2 (já que consideramos o z como zero), temos:\n",
    "\n",
    "$$ dF_z = G\\frac{\\sigma dx dy}{x^2 + y^2 + z^2}\\frac{z}{\\sqrt(x^2 + y^2 + z^2)}, $$\n",
    "\n",
    "$$  F_z = \\iint_A G\\frac{\\sigma dx dy}{x^2 + y^2 + z^2}\\frac{z}{\\sqrt(x^2 + y^2 + z^2)} \\,\\, .$$\n",
    "\n",
    "Juntando os denominadores, e tirando as constantes encontramos a expressão dada na questão:\n",
    "\n",
    "$$  F_z = G\\sigma z \\iint_A \\frac{dx dy}{\\sqrt((x^2 + y^2 + z^2)^3)} \\,\\,.$$\n"
   ]
  },
  {
   "cell_type": "code",
   "execution_count": 256,
   "id": "a888942b",
   "metadata": {},
   "outputs": [
    {
     "data": {
      "text/plain": [
       "[<matplotlib.lines.Line2D at 0x1530ee08950>]"
      ]
     },
     "execution_count": 256,
     "metadata": {},
     "output_type": "execute_result"
    },
    {
     "data": {
      "image/png": "[encoded data removed]",
      "text/plain": [
       "<Figure size 640x480 with 1 Axes>"
      ]
     },
     "metadata": {},
     "output_type": "display_data"
    }
   ],
   "source": [
    "#b)\n",
    "M = 1000 #kg\n",
    "def f(x, y, z):\n",
    "    return 1/(x**2 + y**2 + z**2)**1.5\n",
    "\n",
    "def F(z):\n",
    "    a = -5\n",
    "    b = 5\n",
    "    N = 100\n",
    "    y,w = gaussxw(N)\n",
    "    xp = ((b-a)/2)*y+(b+a)/2\n",
    "    wl = ((b-a)/2)*w\n",
    "    integ2 = 0.0\n",
    "\n",
    "    for k in range(N):\n",
    "        for j in range(N):\n",
    "            integ2+=wl[k]*wl[j]*f(xp[k], y[j], z)\n",
    "    \n",
    "    return integ2*G*z*M\n",
    "\n",
    "z = linspace(0,10,100)\n",
    "\n",
    "plot(z, F(z))"
   ]
  },
  {
   "cell_type": "markdown",
   "id": "d9ce67f7",
   "metadata": {},
   "source": [
    "#### c) \n",
    "Esse artefato vem da forma que a quadratura gaussiana calcula o resultado, evitando divisões por 0. "
   ]
  }
 ],
 "metadata": {
  "kernelspec": {
   "display_name": "Python 3 (ipykernel)",
   "language": "python",
   "name": "python3"
  },
  "language_info": {
   "codemirror_mode": {
    "name": "ipython",
    "version": 3
   },
   "file_extension": ".py",
   "mimetype": "text/x-python",
   "name": "python",
   "nbconvert_exporter": "python",
   "pygments_lexer": "ipython3",
   "version": "3.11.8"
  }
 },
 "nbformat": 4,
 "nbformat_minor": 5
}
