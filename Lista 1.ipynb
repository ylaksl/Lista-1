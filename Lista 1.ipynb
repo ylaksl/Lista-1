{
 "cells": [
  {
   "cell_type": "markdown",
   "id": "3fe35587",
   "metadata": {},
   "source": [
    "lista 1 - Física Computacional"
   ]
  },
  {
   "cell_type": "markdown",
   "id": "4e628964",
   "metadata": {},
   "source": [
    "Problema 1"
   ]
  },
  {
   "cell_type": "code",
   "execution_count": null,
   "id": "b2965e11",
   "metadata": {},
   "outputs": [],
   "source": [
    "        x = int(input(\"numero: \"))\n",
    "        \n",
    "        fat = 1\n",
    "        while x > 0:\n",
    "            fat *= x\n",
    "            x = x-1\n",
    "            \n",
    "        print(fat)\n"
   ]
  },
  {
   "cell_type": "markdown",
   "id": "289d8fdd",
   "metadata": {},
   "source": [
    "Problema 2"
   ]
  },
  {
   "cell_type": "code",
   "execution_count": null,
   "id": "78e76e8b",
   "metadata": {},
   "outputs": [],
   "source": [
    "from math import sqrt\n",
    "\n",
    "a = float(input(\"a: \"))\n",
    "b = float(input(\"b: \"))\n",
    "c = float(input(\"c: \"))\n",
    "\n",
    "\n",
    "delta = b**2 - 4*a*c \n",
    "\n",
    "        if delta < 0:\n",
    "            print(\"nao existe\")\n",
    "\n",
    "        elif delta == 0:\n",
    "            x = -b/(2*a)\n",
    "            print(\"x1 = x2 = {}\".format(x))\n",
    "\n",
    "        elif delta > 0:\n",
    "            x1 = (-b + sqrt(delta))/(2*a)\n",
    "            x2 = (-b - sqrt(delta))/(2*a)\n",
    "            print(\"x1 ={}   x2 = {}\".format(x1, x2))\n",
    "            \n",
    "\n",
    "### Linhas adicionais - alterando os deltas anteriores\n",
    "\n",
    "elif delta == 0:\n",
    "            x_alt = (2*c)/(-b)\n",
    "            print(\"solucao alternativa = {}\".format(x_alt))\n",
    "\n",
    "elif delta > 0:\n",
    "            x1_alt = (2*c)/(-b + sqrt(delta))\n",
    "            x2_alt = (2*c)/(-b - sqrt(delta))\n",
    "            print(\"x1_alt ={}   x2_alt = {}\".format(x1_alt, x2_alt))"
   ]
  },
  {
   "cell_type": "markdown",
   "id": "bc5eb879",
   "metadata": {},
   "source": [
    "Problema 3"
   ]
  },
  {
   "cell_type": "code",
   "execution_count": null,
   "id": "98be7053",
   "metadata": {},
   "outputs": [],
   "source": [
    "        def f(x):\n",
    "        f = x*(x-1)\n",
    "        return f\n",
    "\n",
    "    x = 1.0\n",
    "    delta = 10e-2\n",
    "    derivada = (f(x + delta)-f(x))/delta\n",
    "\n",
    "    print(derivada)"
   ]
  },
  {
   "cell_type": "markdown",
   "id": "f9dda943",
   "metadata": {},
   "source": [
    "Problema 4"
   ]
  },
  {
   "cell_type": "code",
   "execution_count": 5,
   "id": "178e6b57",
   "metadata": {},
   "outputs": [
    {
     "name": "stdout",
     "output_type": "stream",
     "text": [
      "a distancia total eh: 8.218924000000017\n"
     ]
    },
    {
     "data": {
      "image/png": "[encoded data removed]",
      "text/plain": [
       "<Figure size 640x480 with 1 Axes>"
      ]
     },
     "metadata": {},
     "output_type": "display_data"
    }
   ],
   "source": [
    "from numpy import loadtxt\n",
    "from pylab import tick_params, show, plot\n",
    "\n",
    "data = loadtxt(\"velocities.txt\")\n",
    "v = data[:,1]\n",
    "t = data[:,0]\n",
    "    \n",
    "d = v*t\n",
    "\n",
    "tick_params(direction='in', which = 'both', \n",
    "bottom = 1, top =1, left = 1, right = 1)\n",
    "    \n",
    "plot(t,v)\n",
    "plot(t,d)\n",
    "    \n",
    "a = 0\n",
    "b = 100\n",
    "N = 100\n",
    "    \n",
    "h = int((b-a)/N)\n",
    "soma = (v[a]+v[b])/2\n",
    "    \n",
    "for k in range(1,N):\n",
    "    soma = soma + v[a+k*h]\n",
    "    \n",
    "print(\"a distancia total eh: {}\".format(h*soma))\n",
    "\n",
    "## Laranja é velocidade e azul distancia"
   ]
  },
  {
   "cell_type": "markdown",
   "id": "12dae406",
   "metadata": {},
   "source": [
    "Problema 5"
   ]
  },
  {
   "cell_type": "code",
   "execution_count": 1,
   "id": "08971217",
   "metadata": {},
   "outputs": [
    {
     "name": "stdout",
     "output_type": "stream",
     "text": [
      "4.400426666666667\n"
     ]
    }
   ],
   "source": [
    "def f(x):\n",
    "    return (x**4) - (2*x) + 1\n",
    "\n",
    "a = 0\n",
    "b = 2\n",
    "N = 10\n",
    "\n",
    "h = (b-a)/N\n",
    "\n",
    "soma_imp = 0\n",
    "soma_par = 0\n",
    "\n",
    "for k in range(1,N,2):\n",
    "    soma_imp += f(a + k*h)\n",
    "\n",
    "    \n",
    "soma_imp = soma_imp*4\n",
    "    \n",
    "    \n",
    "for k in range(2,N,2):\n",
    "    soma_par += f(a + k*h)\n",
    "    \n",
    "\n",
    "soma_par = soma_par*2\n",
    "\n",
    "\n",
    "integral = (h/3)*(f(a) + f(b) + soma_par + soma_imp)\n",
    "\n",
    "print(integral)\n"
   ]
  }
 ],
 "metadata": {
  "kernelspec": {
   "display_name": "Python 3 (ipykernel)",
   "language": "python",
   "name": "python3"
  },
  "language_info": {
   "codemirror_mode": {
    "name": "ipython",
    "version": 3
   },
   "file_extension": ".py",
   "mimetype": "text/x-python",
   "name": "python",
   "nbconvert_exporter": "python",
   "pygments_lexer": "ipython3",
   "version": "3.11.8"
  }
 },
 "nbformat": 4,
 "nbformat_minor": 5
}
